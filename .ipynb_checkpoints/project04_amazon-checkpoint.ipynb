{
 "cells": [
  {
   "cell_type": "code",
   "execution_count": null,
   "id": "d3bcaea6",
   "metadata": {
    "scrolled": true
   },
   "outputs": [],
   "source": [
    "!pip install chromedriver-binary-auto"
   ]
  },
  {
   "cell_type": "code",
   "execution_count": null,
   "id": "13176d02",
   "metadata": {},
   "outputs": [],
   "source": [
    "from selenium import webdriver\n",
    "from selenium.webdriver.common.by import By\n",
    "from time import sleep\n",
    "import pandas as pd\n",
    "import chromedriver_binary # adds the chromedriver binary to the path\n",
    "driver = webdriver.Chrome()"
   ]
  },
  {
   "cell_type": "code",
   "execution_count": null,
   "id": "eb5a34b1",
   "metadata": {},
   "outputs": [],
   "source": [
    "options = webdriver.ChromeOptions()\n",
    "options.add_argument(\"start-maximized\")\n",
    "\n",
    "# remove all signs of this being an automated browser\n",
    "options.add_argument('--disable-blink-features=AutomationControlled')\n",
    "options.add_experimental_option(\"excludeSwitches\", [\"enable-automation\"])\n",
    "options.add_experimental_option('useAutomationExtension', False)\n",
    "\n",
    "# open the browser with the new options\n",
    "driver = webdriver.Chrome(options=options)\n",
    "driver.get('https://www.amazon.co.jp')"
   ]
  },
  {
   "cell_type": "code",
   "execution_count": null,
   "id": "00c228af",
   "metadata": {
    "scrolled": true
   },
   "outputs": [],
   "source": [
    "# Locate the search input field by its ID and enter the search query\n",
    "input_search = driver.find_element(By.ID,'twotabsearchtextbox')\n",
    "input_search.send_keys(\"防犯グッズ 護身用\")"
   ]
  },
  {
   "cell_type": "code",
   "execution_count": null,
   "id": "c9bf353c",
   "metadata": {},
   "outputs": [],
   "source": [
    "# Find and click the search button to initiate the search\n",
    "search_button = driver.find_element(By.XPATH, '//*[@id=\"nav-search-submit-button\"]')\n",
    "search_button.click()\n",
    "sleep(1)"
   ]
  },
  {
   "cell_type": "code",
   "execution_count": null,
   "id": "0cde1419",
   "metadata": {},
   "outputs": [],
   "source": [
    "#Bestseller\n",
    "best_seller_label = driver.find_element(By.CSS_SELECTOR,\".a-badge-label\")\n",
    "best_seller_label.click()\n",
    "\n",
    "# Count the number of bestseller products\n",
    "best_seller_count = len(driver.find_elements(By.CSS_SELECTOR, \".a-badge-label\"))\n",
    "print(\"Number of bestseller:\", best_seller_count)"
   ]
  },
  {
   "cell_type": "code",
   "execution_count": null,
   "id": "74ae1d51",
   "metadata": {},
   "outputs": [],
   "source": [
    "#ProductName\n",
    "results = driver.find_elements(By.CLASS_NAME, \"a-size-base-plus\")\n",
    "len(results)"
   ]
  },
  {
   "cell_type": "code",
   "execution_count": null,
   "id": "689c8522",
   "metadata": {},
   "outputs": [],
   "source": [
    "#Popularity\n",
    "# popular = driver.find_elements(By.CSS_SELECTOR, \"aria-label\")\n",
    "popular = driver.find_elements(By.CLASS_NAME, \"a-size-base\")\n",
    "print(popular[3].text)"
   ]
  },
  {
   "cell_type": "code",
   "execution_count": null,
   "id": "07b55615",
   "metadata": {},
   "outputs": [],
   "source": [
    "for result in popular:\n",
    "    print(result.text)"
   ]
  },
  {
   "cell_type": "code",
   "execution_count": null,
   "id": "42a51bc3",
   "metadata": {},
   "outputs": [],
   "source": [
    "#Price\n",
    "prices = driver.find_elements(By.CLASS_NAME, \"a-price\")\n",
    "len(prices)"
   ]
  },
  {
   "cell_type": "code",
   "execution_count": null,
   "id": "1939ba57",
   "metadata": {},
   "outputs": [],
   "source": [
    "for result in prices:\n",
    "    print(result.text)"
   ]
  },
  {
   "cell_type": "code",
   "execution_count": null,
   "id": "f23b3fc8",
   "metadata": {},
   "outputs": [],
   "source": [
    "product_tiles = driver.find_elements(\n",
    "    By.CLASS_NAME, \n",
    "    's-card-container'\n",
    ")\n",
    "len(product_tiles)"
   ]
  },
  {
   "cell_type": "code",
   "execution_count": null,
   "id": "df12783f",
   "metadata": {},
   "outputs": [],
   "source": [
    "# Extract the data\n",
    "product_tiles = driver.find_elements(By.CLASS_NAME, 's-card-container')\n",
    "product_names = []\n",
    "prices = []\n",
    "\n",
    "for product in product_tiles:\n",
    "    try:\n",
    "        name = product.find_element(By.CLASS_NAME, \"a-size-base-plus\").text\n",
    "    except:\n",
    "        name = \"N/A\"\n",
    "    try:\n",
    "        price = product.find_element(By.CLASS_NAME, \"a-price\").text\n",
    "    except:\n",
    "        price = \"N/A\"\n",
    "    product_names.append(name)\n",
    "    prices.append(price)\n",
    "\n",
    "# Create a DataFrame\n",
    "data = {\n",
    "    'Product Name': product_names,\n",
    "    'Price': prices\n",
    "}\n",
    "\n",
    "df = pd.DataFrame(data)\n",
    "\n",
    "# Print the DataFrame\n",
    "print(df)\n",
    "\n",
    "# Close the WebDriver\n",
    "driver.quit()"
   ]
  },
  {
   "cell_type": "code",
   "execution_count": null,
   "id": "0d4c9d72",
   "metadata": {},
   "outputs": [],
   "source": [
    "# #DataFrame to scatter\n",
    "# import matplotlib.pyplot as plt\n",
    "\n",
    "# # Convert 'Price' column to numerical values\n",
    "# df['Price'] = df['Price'].replace('[\\¥,]', '', regex=True).astype(float)\n",
    "\n",
    "# # Create a scatter plot\n",
    "# plt.figure(figsize=(10, 6))\n",
    "# plt.scatter(df['Product Name'], df['Price'])\n",
    "# plt.xlabel('Product Name')\n",
    "# plt.ylabel('Price')\n",
    "# plt.title('Scatter Plot of Product Prices')\n",
    "# plt.xticks(rotation=90)  # Rotate x-axis labels for readability\n",
    "# plt.tight_layout()\n",
    "\n",
    "# # Display the plot\n",
    "# plt.show()"
   ]
  },
  {
   "cell_type": "code",
   "execution_count": null,
   "id": "d7d79241",
   "metadata": {},
   "outputs": [],
   "source": [
    "# import numpy as np\n",
    "# import matplotlib.pyplot as plt\n",
    "\n",
    "# # Your code to create the DataFrame\n",
    "# # Replace 'N/A' values in 'Price' column with NaN\n",
    "# df['Price'] = df['Price'].replace('N/A', np.nan)\n",
    "\n",
    "# # Convert 'Price' column to numerical values\n",
    "# df['Price'] = df['Price'].replace('[\\¥,]', '', regex=True).astype(float)\n",
    "\n",
    "# # Create a scatter plot\n",
    "# plt.figure(figsize=(10, 6))\n",
    "# plt.scatter(df['Product Name'], df['Price'])\n",
    "# plt.xlabel('Product Name')\n",
    "# plt.ylabel('Price')\n",
    "# plt.title('Scatter Plot of Product Prices')\n",
    "# plt.xticks(rotation=90)\n",
    "# plt.tight_layout()\n",
    "\n",
    "# # Display the plot\n",
    "# plt.show()\n"
   ]
  },
  {
   "cell_type": "code",
   "execution_count": null,
   "id": "95db9d56",
   "metadata": {},
   "outputs": [],
   "source": [
    "sudo apt-get update -qq\n",
    "sudo apt-get install -y fonts-takao"
   ]
  },
  {
   "cell_type": "code",
   "execution_count": null,
   "id": "82478cd8",
   "metadata": {},
   "outputs": [],
   "source": [
    "import matplotlib.pyplot as plt\n",
    "\n",
    "# Specify a Japanese font\n",
    "plt.rcParams['font.family'] = 'TakaoPGothic'  # Use the actual font name\n",
    "\n",
    "# Adjust font size for better readability (optional)\n",
    "plt.rcParams['font.size'] = 12\n"
   ]
  },
  {
   "cell_type": "code",
   "execution_count": null,
   "id": "ecfd908e",
   "metadata": {},
   "outputs": [],
   "source": [
    "# Create a scatter plot\n",
    "plt.figure(figsize=(10, 6))\n",
    "plt.scatter(df['Product Name'], df['Price'])\n",
    "plt.xlabel('Product Name')\n",
    "plt.ylabel('Price')\n",
    "plt.title('Scatter Plot of Product Prices')\n",
    "plt.xticks(rotation=90)\n",
    "plt.tight_layout()\n",
    "\n",
    "# Display the plot\n",
    "plt.show()"
   ]
  },
  {
   "cell_type": "code",
   "execution_count": 15,
   "id": "9dd17c59",
   "metadata": {},
   "outputs": [],
   "source": [
    "# Save the DataFrame to a CSV file\n",
    "# df.to_csv('amazon_products.csv', index=False)"
   ]
  },
  {
   "cell_type": "code",
   "execution_count": null,
   "id": "02e6d2be",
   "metadata": {},
   "outputs": [],
   "source": []
  },
  {
   "cell_type": "code",
   "execution_count": null,
   "id": "601f1f45",
   "metadata": {},
   "outputs": [],
   "source": []
  },
  {
   "cell_type": "code",
   "execution_count": null,
   "id": "7c0dfa54",
   "metadata": {},
   "outputs": [],
   "source": []
  },
  {
   "cell_type": "code",
   "execution_count": null,
   "id": "59a63bb1",
   "metadata": {},
   "outputs": [],
   "source": []
  },
  {
   "cell_type": "code",
   "execution_count": null,
   "id": "92375615",
   "metadata": {},
   "outputs": [],
   "source": []
  },
  {
   "cell_type": "code",
   "execution_count": null,
   "id": "b95b3303",
   "metadata": {},
   "outputs": [],
   "source": []
  }
 ],
 "metadata": {
  "kernelspec": {
   "display_name": "Python 3 (ipykernel)",
   "language": "python",
   "name": "python3"
  },
  "language_info": {
   "codemirror_mode": {
    "name": "ipython",
    "version": 3
   },
   "file_extension": ".py",
   "mimetype": "text/x-python",
   "name": "python",
   "nbconvert_exporter": "python",
   "pygments_lexer": "ipython3",
   "version": "3.10.11"
  }
 },
 "nbformat": 4,
 "nbformat_minor": 5
}
